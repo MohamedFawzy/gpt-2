{
 "cells": [
  {
   "cell_type": "code",
   "execution_count": 1,
   "metadata": {},
   "outputs": [
    {
     "data": {
      "application/vnd.jupyter.widget-view+json": {
       "model_id": "0d0913f8e436416f8eeb2d2ae4092ae9",
       "version_major": 2,
       "version_minor": 0
      },
      "text/plain": [
       "HBox(children=(HTML(value='Downloading'), FloatProgress(value=0.0, max=704.0), HTML(value='')))"
      ]
     },
     "metadata": {},
     "output_type": "display_data"
    },
    {
     "name": "stdout",
     "output_type": "stream",
     "text": [
      "\n"
     ]
    },
    {
     "data": {
      "application/vnd.jupyter.widget-view+json": {
       "model_id": "116907fc505549a6b6f157df842f3d59",
       "version_major": 2,
       "version_minor": 0
      },
      "text/plain": [
       "HBox(children=(HTML(value='Downloading'), FloatProgress(value=0.0, max=1583097.0), HTML(value='')))"
      ]
     },
     "metadata": {},
     "output_type": "display_data"
    },
    {
     "name": "stdout",
     "output_type": "stream",
     "text": [
      "\n"
     ]
    },
    {
     "data": {
      "application/vnd.jupyter.widget-view+json": {
       "model_id": "3f6c580b157e4324811430388a971cb1",
       "version_major": 2,
       "version_minor": 0
      },
      "text/plain": [
       "HBox(children=(HTML(value='Downloading'), FloatProgress(value=0.0, max=1143583.0), HTML(value='')))"
      ]
     },
     "metadata": {},
     "output_type": "display_data"
    },
    {
     "name": "stdout",
     "output_type": "stream",
     "text": [
      "\n"
     ]
    },
    {
     "data": {
      "application/vnd.jupyter.widget-view+json": {
       "model_id": "4be90418fa0a4cc09552a9da5589ac81",
       "version_major": 2,
       "version_minor": 0
      },
      "text/plain": [
       "HBox(children=(HTML(value='Downloading'), FloatProgress(value=0.0, max=109.0), HTML(value='')))"
      ]
     },
     "metadata": {},
     "output_type": "display_data"
    },
    {
     "name": "stdout",
     "output_type": "stream",
     "text": [
      "\n"
     ]
    },
    {
     "data": {
      "application/vnd.jupyter.widget-view+json": {
       "model_id": "6c597ae5aedb4413bfba3798b78f23ff",
       "version_major": 2,
       "version_minor": 0
      },
      "text/plain": [
       "HBox(children=(HTML(value='Downloading'), FloatProgress(value=0.0, max=568.0), HTML(value='')))"
      ]
     },
     "metadata": {},
     "output_type": "display_data"
    },
    {
     "name": "stdout",
     "output_type": "stream",
     "text": [
      "\n"
     ]
    },
    {
     "data": {
      "application/vnd.jupyter.widget-view+json": {
       "model_id": "880e314cf6a64dbbb02579387f998c70",
       "version_major": 2,
       "version_minor": 0
      },
      "text/plain": [
       "HBox(children=(HTML(value='Downloading'), FloatProgress(value=0.0, max=509586767.0), HTML(value='')))"
      ]
     },
     "metadata": {},
     "output_type": "display_data"
    },
    {
     "name": "stdout",
     "output_type": "stream",
     "text": [
      "\n"
     ]
    }
   ],
   "source": [
    "from transformers import AutoTokenizer, AutoModelForCausalLM, pipeline\n",
    "import re, json\n",
    "\n",
    "tokenizer = AutoTokenizer.from_pretrained(\"mofawzy/gpt-2-negative-reviews\")\n",
    "model = AutoModelForCausalLM.from_pretrained(\"mofawzy/gpt-2-negative-reviews\")"
   ]
  },
  {
   "cell_type": "code",
   "execution_count": 2,
   "metadata": {},
   "outputs": [
    {
     "name": "stderr",
     "output_type": "stream",
     "text": [
      "Some weights of the model checkpoint at ./gpt-2-negative-reviews/ were not used when initializing GPT2ForSequenceClassification: ['lm_head.weight']\n",
      "- This IS expected if you are initializing GPT2ForSequenceClassification from the checkpoint of a model trained on another task or with another architecture (e.g. initializing a BertForSequenceClassification model from a BertForPreTraining model).\n",
      "- This IS NOT expected if you are initializing GPT2ForSequenceClassification from the checkpoint of a model that you expect to be exactly identical (initializing a BertForSequenceClassification model from a BertForSequenceClassification model).\n",
      "Some weights of GPT2ForSequenceClassification were not initialized from the model checkpoint at ./gpt-2-negative-reviews/ and are newly initialized: ['score.weight']\n",
      "You should probably TRAIN this model on a down-stream task to be able to use it for predictions and inference.\n"
     ]
    }
   ],
   "source": [
    "MODEL_PATH = \"./gpt-2-negative-reviews/\"\n",
    "\n",
    "nlp = pipeline(\n",
    "    \"sentiment-analysis\",\n",
    "    model=MODEL_PATH,\n",
    "    tokenizer=MODEL_PATH,\n",
    ")"
   ]
  },
  {
   "cell_type": "code",
   "execution_count": 3,
   "metadata": {},
   "outputs": [
    {
     "name": "stderr",
     "output_type": "stream",
     "text": [
      "Setting `pad_token_id` to `eos_token_id`:2 for open-end generation.\n",
      "Setting `pad_token_id` to `eos_token_id`:2 for open-end generation.\n",
      "Setting `pad_token_id` to `eos_token_id`:2 for open-end generation.\n",
      "Setting `pad_token_id` to `eos_token_id`:2 for open-end generation.\n",
      "Setting `pad_token_id` to `eos_token_id`:2 for open-end generation.\n",
      "Setting `pad_token_id` to `eos_token_id`:2 for open-end generation.\n",
      "Setting `pad_token_id` to `eos_token_id`:2 for open-end generation.\n",
      "Setting `pad_token_id` to `eos_token_id`:2 for open-end generation.\n",
      "Setting `pad_token_id` to `eos_token_id`:2 for open-end generation.\n",
      "Setting `pad_token_id` to `eos_token_id`:2 for open-end generation.\n",
      "Setting `pad_token_id` to `eos_token_id`:2 for open-end generation.\n",
      "Setting `pad_token_id` to `eos_token_id`:2 for open-end generation.\n",
      "Setting `pad_token_id` to `eos_token_id`:2 for open-end generation.\n",
      "Setting `pad_token_id` to `eos_token_id`:2 for open-end generation.\n",
      "Setting `pad_token_id` to `eos_token_id`:2 for open-end generation.\n",
      "Setting `pad_token_id` to `eos_token_id`:2 for open-end generation.\n",
      "Setting `pad_token_id` to `eos_token_id`:2 for open-end generation.\n",
      "Setting `pad_token_id` to `eos_token_id`:2 for open-end generation.\n",
      "Setting `pad_token_id` to `eos_token_id`:2 for open-end generation.\n",
      "Setting `pad_token_id` to `eos_token_id`:2 for open-end generation.\n",
      "Setting `pad_token_id` to `eos_token_id`:2 for open-end generation.\n",
      "Setting `pad_token_id` to `eos_token_id`:2 for open-end generation.\n",
      "Setting `pad_token_id` to `eos_token_id`:2 for open-end generation.\n",
      "Setting `pad_token_id` to `eos_token_id`:2 for open-end generation.\n",
      "Setting `pad_token_id` to `eos_token_id`:2 for open-end generation.\n",
      "Setting `pad_token_id` to `eos_token_id`:2 for open-end generation.\n",
      "Setting `pad_token_id` to `eos_token_id`:2 for open-end generation.\n",
      "Setting `pad_token_id` to `eos_token_id`:2 for open-end generation.\n",
      "Setting `pad_token_id` to `eos_token_id`:2 for open-end generation.\n",
      "Setting `pad_token_id` to `eos_token_id`:2 for open-end generation.\n"
     ]
    }
   ],
   "source": [
    "with open('init.txt') as f:\n",
    "    lines = [line.rstrip() for line in f]\n",
    "f.close()\n",
    "\n",
    "\n",
    "MAX_LEN=25\n",
    "MIN_LEN=5\n",
    "TOP_K=5_000\n",
    "N_SEQ=5_00\n",
    "results = []\n",
    "\n",
    "for keyword in lines:\n",
    "    input_ids = tokenizer.encode(keyword, return_tensors='pt')\n",
    "    sample_outputs = model.generate(None,\n",
    "                                       do_sample=True, \n",
    "                                       max_length=MAX_LEN, \n",
    "                                       min_length=MIN_LEN,\n",
    "                                       top_k=TOP_K,\n",
    "                                       num_return_sequences=N_SEQ)\n",
    "\n",
    "    for sample_output in sample_outputs:\n",
    "        gen = tokenizer.decode(sample_output)\n",
    "        result = nlp(gen)\n",
    "        if result[0]['score'] >= 0.70:\n",
    "            with open('data/train_over_sampling.json', encoding='utf-8', mode='a+') as output:\n",
    "                res = re.sub(r'[^\\w\\s]', '', gen)\n",
    "                row={\n",
    "                        \"review\": res.replace(\"\\n\", \" \"),\n",
    "                        \"label\": str(0)\n",
    "                }\n",
    "                output.write(json.dumps(row))\n",
    "                output.write(\"\\n\")"
   ]
  },
  {
   "cell_type": "code",
   "execution_count": null,
   "metadata": {},
   "outputs": [],
   "source": [
    "import re \n",
    "with open('generated.txt', 'w') as f:\n",
    "    for item in results:\n",
    "        res = re.sub(r'[^\\w\\s]', '', item)\n",
    "        print(res)\n",
    "        print('========')\n",
    "        print(item)\n",
    "        break\n",
    "        f.write(res)"
   ]
  },
  {
   "cell_type": "code",
   "execution_count": null,
   "metadata": {},
   "outputs": [],
   "source": [
    "keywords = ['سئ', 'وحش', 'ممل', 'مقرف']\n",
    "for keyword in keywords:\n",
    "    input_ids = tokenizer.encode(keyword, return_tensors='pt')\n",
    "    max_length = 40\n",
    "    sample_outputs = model.generate(None,\n",
    "                                       do_sample=True, \n",
    "                                       max_length=max_length, \n",
    "                                       min_length=10,\n",
    "                                       top_k=30,\n",
    "                                       num_return_sequences=5)\n",
    "\n",
    "    for i, sample_output in enumerate(sample_outputs):\n",
    "        gen = tokenizer.decode(sample_output.tolist())\n",
    "        print(20*'=', '\\n')\n",
    "        print(f\"Sample {i+1}\")\n",
    "        for line in gen.split('.')[:-1]:\n",
    "            print(line)"
   ]
  },
  {
   "cell_type": "markdown",
   "metadata": {},
   "source": [
    "### Eval\n",
    "Fine-tune your LM on a downstream task"
   ]
  },
  {
   "cell_type": "code",
   "execution_count": null,
   "metadata": {},
   "outputs": [],
   "source": [
    "from transformers import TokenClassificationPipeline, pipeline\n",
    "\n",
    "\n",
    "MODEL_PATH = \"./gpt2-arabic-sentence-generator/\"\n",
    "\n",
    "nlp = pipeline(\n",
    "    \"sentiment-analysis\",\n",
    "    model=MODEL_PATH,\n",
    "    tokenizer=MODEL_PATH,\n",
    ")\n"
   ]
  },
  {
   "cell_type": "code",
   "execution_count": null,
   "metadata": {},
   "outputs": [],
   "source": [
    "result = nlp(\"كتاب وحش اوي\")"
   ]
  },
  {
   "cell_type": "code",
   "execution_count": null,
   "metadata": {},
   "outputs": [],
   "source": [
    "result[0]['score']"
   ]
  },
  {
   "cell_type": "markdown",
   "metadata": {},
   "source": [
    "### New Model Fine-Tuning"
   ]
  },
  {
   "cell_type": "code",
   "execution_count": 10,
   "metadata": {},
   "outputs": [],
   "source": [
    "from transformers import AutoTokenizer, AutoModelForCausalLM\n",
    "import re\n",
    "import json"
   ]
  },
  {
   "cell_type": "code",
   "execution_count": 11,
   "metadata": {},
   "outputs": [],
   "source": [
    "tokenizer = AutoTokenizer.from_pretrained(\"mofawzy/gpt-2-medium-ar\")\n",
    "model = AutoModelForCausalLM.from_pretrained(\"mofawzy/gpt-2-medium-ar\")"
   ]
  },
  {
   "cell_type": "code",
   "execution_count": null,
   "metadata": {},
   "outputs": [
    {
     "name": "stderr",
     "output_type": "stream",
     "text": [
      "Setting `pad_token_id` to `eos_token_id`:50256 for open-end generation.\n"
     ]
    }
   ],
   "source": [
    "with open('init.txt') as f:\n",
    "    lines = [line.rstrip() for line in f]\n",
    "f.close()\n",
    "\n",
    "\n",
    "MAX_LEN=150\n",
    "MIN_LEN=25\n",
    "TOP_K=5_00\n",
    "N_SEQ=5_00\n",
    "results = []\n",
    "\n",
    "for keyword in lines:\n",
    "    input_ids = tokenizer.encode(keyword, return_tensors='pt')\n",
    "    sample_outputs = model.generate( \n",
    "                                    input_ids, \n",
    "                                    max_length=MAX_LEN,  \n",
    "                                    num_return_sequences=N_SEQ,\n",
    "                                    no_repeat_ngram_size=2,\n",
    "                                    repetition_penalty=1.5,\n",
    "                                    top_p=0.92,\n",
    "                                    temperature=.85,\n",
    "                                    do_sample=True,\n",
    "                                    top_k=TOP_K,\n",
    "                                    early_stopping=True)\n",
    "\n",
    "    for i, sample_output in enumerate(sample_outputs):\n",
    "        gen = tokenizer.decode(sample_output, skip_special_tokens=True)\n",
    "        with open('data/train_over_sampling_2.json', encoding='utf-8', mode='a+') as output:\n",
    "            res = re.sub(r'[^\\w\\s]', '', gen)\n",
    "            row={\n",
    "                \"review\": res.replace(\"\\n\", \" \"),\n",
    "                \"label\": str(0)\n",
    "            }\n",
    "            output.write(json.dumps(row))\n",
    "            output.write(\"\\n\")"
   ]
  },
  {
   "cell_type": "code",
   "execution_count": null,
   "metadata": {},
   "outputs": [],
   "source": []
  }
 ],
 "metadata": {
  "kernelspec": {
   "display_name": "Python 3",
   "language": "python",
   "name": "python3"
  },
  "language_info": {
   "codemirror_mode": {
    "name": "ipython",
    "version": 3
   },
   "file_extension": ".py",
   "mimetype": "text/x-python",
   "name": "python",
   "nbconvert_exporter": "python",
   "pygments_lexer": "ipython3",
   "version": "3.7.10"
  }
 },
 "nbformat": 4,
 "nbformat_minor": 4
}
