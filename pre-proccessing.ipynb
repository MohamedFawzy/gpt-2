{
 "cells": [
  {
   "cell_type": "markdown",
   "metadata": {},
   "source": [
    "### LABR dataset preprocessing"
   ]
  },
  {
   "cell_type": "code",
   "execution_count": 1,
   "metadata": {},
   "outputs": [],
   "source": [
    "import pandas as pd"
   ]
  },
  {
   "cell_type": "code",
   "execution_count": 2,
   "metadata": {},
   "outputs": [],
   "source": [
    "# columns  rating<TAB>review id<TAB>user id<TAB>book id<TAB>review\n",
    "df = pd.read_csv(\"reviews.tsv\", sep='\\t', header=0, names=['rating', 'review_id', 'user_id', 'book_id', 'review'])"
   ]
  },
  {
   "cell_type": "code",
   "execution_count": 3,
   "metadata": {},
   "outputs": [
    {
     "data": {
      "text/html": [
       "<div>\n",
       "<style scoped>\n",
       "    .dataframe tbody tr th:only-of-type {\n",
       "        vertical-align: middle;\n",
       "    }\n",
       "\n",
       "    .dataframe tbody tr th {\n",
       "        vertical-align: top;\n",
       "    }\n",
       "\n",
       "    .dataframe thead th {\n",
       "        text-align: right;\n",
       "    }\n",
       "</style>\n",
       "<table border=\"1\" class=\"dataframe\">\n",
       "  <thead>\n",
       "    <tr style=\"text-align: right;\">\n",
       "      <th></th>\n",
       "      <th>rating</th>\n",
       "      <th>review_id</th>\n",
       "      <th>user_id</th>\n",
       "      <th>book_id</th>\n",
       "      <th>review</th>\n",
       "    </tr>\n",
       "  </thead>\n",
       "  <tbody>\n",
       "    <tr>\n",
       "      <th>0</th>\n",
       "      <td>4</td>\n",
       "      <td>39428407</td>\n",
       "      <td>1775679</td>\n",
       "      <td>3554772</td>\n",
       "      <td>من أمتع ما قرأت من روايات بلا شك. وحول الشك تد...</td>\n",
       "    </tr>\n",
       "    <tr>\n",
       "      <th>1</th>\n",
       "      <td>4</td>\n",
       "      <td>32159373</td>\n",
       "      <td>1304410</td>\n",
       "      <td>3554772</td>\n",
       "      <td>رواية تتخذ من التاريخ ،جوًا لها اختار المؤلف ف...</td>\n",
       "    </tr>\n",
       "    <tr>\n",
       "      <th>2</th>\n",
       "      <td>1</td>\n",
       "      <td>442326656</td>\n",
       "      <td>11333112</td>\n",
       "      <td>3554772</td>\n",
       "      <td>إني أقدّر هذه الرواية كثيرا، لسبب مختلف عن أسب...</td>\n",
       "    </tr>\n",
       "    <tr>\n",
       "      <th>3</th>\n",
       "      <td>5</td>\n",
       "      <td>46492258</td>\n",
       "      <td>580165</td>\n",
       "      <td>3554772</td>\n",
       "      <td>الكاهن الذي أطلق على نفسه اسم هيبا تيمنا بالعا...</td>\n",
       "    </tr>\n",
       "    <tr>\n",
       "      <th>4</th>\n",
       "      <td>5</td>\n",
       "      <td>25550893</td>\n",
       "      <td>1252226</td>\n",
       "      <td>3554772</td>\n",
       "      <td>عزازيل هو اسم رواية يوسف زيدان الثانية و التي ...</td>\n",
       "    </tr>\n",
       "  </tbody>\n",
       "</table>\n",
       "</div>"
      ],
      "text/plain": [
       "   rating  review_id   user_id  book_id  \\\n",
       "0       4   39428407   1775679  3554772   \n",
       "1       4   32159373   1304410  3554772   \n",
       "2       1  442326656  11333112  3554772   \n",
       "3       5   46492258    580165  3554772   \n",
       "4       5   25550893   1252226  3554772   \n",
       "\n",
       "                                              review  \n",
       "0  من أمتع ما قرأت من روايات بلا شك. وحول الشك تد...  \n",
       "1  رواية تتخذ من التاريخ ،جوًا لها اختار المؤلف ف...  \n",
       "2  إني أقدّر هذه الرواية كثيرا، لسبب مختلف عن أسب...  \n",
       "3  الكاهن الذي أطلق على نفسه اسم هيبا تيمنا بالعا...  \n",
       "4  عزازيل هو اسم رواية يوسف زيدان الثانية و التي ...  "
      ]
     },
     "execution_count": 3,
     "metadata": {},
     "output_type": "execute_result"
    }
   ],
   "source": [
    "df.head()"
   ]
  },
  {
   "cell_type": "code",
   "execution_count": 4,
   "metadata": {},
   "outputs": [],
   "source": [
    "df = df[['review', 'rating']]"
   ]
  },
  {
   "cell_type": "code",
   "execution_count": 5,
   "metadata": {},
   "outputs": [
    {
     "data": {
      "text/html": [
       "<div>\n",
       "<style scoped>\n",
       "    .dataframe tbody tr th:only-of-type {\n",
       "        vertical-align: middle;\n",
       "    }\n",
       "\n",
       "    .dataframe tbody tr th {\n",
       "        vertical-align: top;\n",
       "    }\n",
       "\n",
       "    .dataframe thead th {\n",
       "        text-align: right;\n",
       "    }\n",
       "</style>\n",
       "<table border=\"1\" class=\"dataframe\">\n",
       "  <thead>\n",
       "    <tr style=\"text-align: right;\">\n",
       "      <th></th>\n",
       "      <th>review</th>\n",
       "      <th>rating</th>\n",
       "    </tr>\n",
       "  </thead>\n",
       "  <tbody>\n",
       "    <tr>\n",
       "      <th>0</th>\n",
       "      <td>من أمتع ما قرأت من روايات بلا شك. وحول الشك تد...</td>\n",
       "      <td>4</td>\n",
       "    </tr>\n",
       "    <tr>\n",
       "      <th>1</th>\n",
       "      <td>رواية تتخذ من التاريخ ،جوًا لها اختار المؤلف ف...</td>\n",
       "      <td>4</td>\n",
       "    </tr>\n",
       "    <tr>\n",
       "      <th>2</th>\n",
       "      <td>إني أقدّر هذه الرواية كثيرا، لسبب مختلف عن أسب...</td>\n",
       "      <td>1</td>\n",
       "    </tr>\n",
       "    <tr>\n",
       "      <th>3</th>\n",
       "      <td>الكاهن الذي أطلق على نفسه اسم هيبا تيمنا بالعا...</td>\n",
       "      <td>5</td>\n",
       "    </tr>\n",
       "    <tr>\n",
       "      <th>4</th>\n",
       "      <td>عزازيل هو اسم رواية يوسف زيدان الثانية و التي ...</td>\n",
       "      <td>5</td>\n",
       "    </tr>\n",
       "  </tbody>\n",
       "</table>\n",
       "</div>"
      ],
      "text/plain": [
       "                                              review  rating\n",
       "0  من أمتع ما قرأت من روايات بلا شك. وحول الشك تد...       4\n",
       "1  رواية تتخذ من التاريخ ،جوًا لها اختار المؤلف ف...       4\n",
       "2  إني أقدّر هذه الرواية كثيرا، لسبب مختلف عن أسب...       1\n",
       "3  الكاهن الذي أطلق على نفسه اسم هيبا تيمنا بالعا...       5\n",
       "4  عزازيل هو اسم رواية يوسف زيدان الثانية و التي ...       5"
      ]
     },
     "execution_count": 5,
     "metadata": {},
     "output_type": "execute_result"
    }
   ],
   "source": [
    "df.head()"
   ]
  },
  {
   "cell_type": "markdown",
   "metadata": {},
   "source": [
    "### select only positive , negative sentences where 1,2 considered negative reviews, 4,5 positive reviews and 3 is netural\n",
    "check first if we have netural reviews"
   ]
  },
  {
   "cell_type": "code",
   "execution_count": 6,
   "metadata": {},
   "outputs": [
    {
     "data": {
      "text/html": [
       "<div>\n",
       "<style scoped>\n",
       "    .dataframe tbody tr th:only-of-type {\n",
       "        vertical-align: middle;\n",
       "    }\n",
       "\n",
       "    .dataframe tbody tr th {\n",
       "        vertical-align: top;\n",
       "    }\n",
       "\n",
       "    .dataframe thead th {\n",
       "        text-align: right;\n",
       "    }\n",
       "</style>\n",
       "<table border=\"1\" class=\"dataframe\">\n",
       "  <thead>\n",
       "    <tr style=\"text-align: right;\">\n",
       "      <th></th>\n",
       "      <th>review</th>\n",
       "      <th>rating</th>\n",
       "    </tr>\n",
       "  </thead>\n",
       "  <tbody>\n",
       "    <tr>\n",
       "      <th>5</th>\n",
       "      <td>لم استوعب بداية أنها رواية حتى وصلت إلى المنتص...</td>\n",
       "      <td>3</td>\n",
       "    </tr>\n",
       "    <tr>\n",
       "      <th>18</th>\n",
       "      <td>رؤيتي للكتاب بشكل عام : * أنا لست من محبي الرو...</td>\n",
       "      <td>3</td>\n",
       "    </tr>\n",
       "    <tr>\n",
       "      <th>20</th>\n",
       "      <td>ممتعه لا أحد يختار . وانما هي مشيئة السماء تتخ...</td>\n",
       "      <td>3</td>\n",
       "    </tr>\n",
       "    <tr>\n",
       "      <th>34</th>\n",
       "      <td>رواية محبوكة لأقصى درجة. خدعتني المقدمة و الصو...</td>\n",
       "      <td>3</td>\n",
       "    </tr>\n",
       "    <tr>\n",
       "      <th>45</th>\n",
       "      <td>ميزة الرواية أنها أطلعتنى على تاريخ الكنيسة ال...</td>\n",
       "      <td>3</td>\n",
       "    </tr>\n",
       "    <tr>\n",
       "      <th>...</th>\n",
       "      <td>...</td>\n",
       "      <td>...</td>\n",
       "    </tr>\n",
       "    <tr>\n",
       "      <th>63056</th>\n",
       "      <td>كثيرة المأساوية وكثيرة الالم ، النهاية صعبة جد...</td>\n",
       "      <td>3</td>\n",
       "    </tr>\n",
       "    <tr>\n",
       "      <th>63057</th>\n",
       "      <td>يقدم شكسبير تقنية لم يسبقه إليها أحد وهي تقنية...</td>\n",
       "      <td>3</td>\n",
       "    </tr>\n",
       "    <tr>\n",
       "      <th>63061</th>\n",
       "      <td>بصراحة، لم تكن هذه الرواية على قدر توقعاتي. ال...</td>\n",
       "      <td>3</td>\n",
       "    </tr>\n",
       "    <tr>\n",
       "      <th>63062</th>\n",
       "      <td>هي الرواية الأولى التي قرأتها لأيميلي نصر الله...</td>\n",
       "      <td>3</td>\n",
       "    </tr>\n",
       "    <tr>\n",
       "      <th>63063</th>\n",
       "      <td>تَدْخل بيوت الناس، تدخل قلوبهم، تمدّ يدك تصافح...</td>\n",
       "      <td>3</td>\n",
       "    </tr>\n",
       "  </tbody>\n",
       "</table>\n",
       "<p>12168 rows × 2 columns</p>\n",
       "</div>"
      ],
      "text/plain": [
       "                                                  review  rating\n",
       "5      لم استوعب بداية أنها رواية حتى وصلت إلى المنتص...       3\n",
       "18     رؤيتي للكتاب بشكل عام : * أنا لست من محبي الرو...       3\n",
       "20     ممتعه لا أحد يختار . وانما هي مشيئة السماء تتخ...       3\n",
       "34     رواية محبوكة لأقصى درجة. خدعتني المقدمة و الصو...       3\n",
       "45     ميزة الرواية أنها أطلعتنى على تاريخ الكنيسة ال...       3\n",
       "...                                                  ...     ...\n",
       "63056  كثيرة المأساوية وكثيرة الالم ، النهاية صعبة جد...       3\n",
       "63057  يقدم شكسبير تقنية لم يسبقه إليها أحد وهي تقنية...       3\n",
       "63061  بصراحة، لم تكن هذه الرواية على قدر توقعاتي. ال...       3\n",
       "63062  هي الرواية الأولى التي قرأتها لأيميلي نصر الله...       3\n",
       "63063  تَدْخل بيوت الناس، تدخل قلوبهم، تمدّ يدك تصافح...       3\n",
       "\n",
       "[12168 rows x 2 columns]"
      ]
     },
     "execution_count": 6,
     "metadata": {},
     "output_type": "execute_result"
    }
   ],
   "source": [
    "df.loc[df['rating']==3]"
   ]
  },
  {
   "cell_type": "markdown",
   "metadata": {},
   "source": [
    "Now select positive reviews and negative reviews only"
   ]
  },
  {
   "cell_type": "code",
   "execution_count": 7,
   "metadata": {},
   "outputs": [],
   "source": [
    "positive_reviews = df.loc[df['rating'] >=4]\n",
    "negative_reviews = df.loc[df['rating'] <= 2]"
   ]
  },
  {
   "cell_type": "markdown",
   "metadata": {},
   "source": [
    "confirm we don't have anymore reviews with rating 3."
   ]
  },
  {
   "cell_type": "code",
   "execution_count": 8,
   "metadata": {},
   "outputs": [
    {
     "data": {
      "text/html": [
       "<div>\n",
       "<style scoped>\n",
       "    .dataframe tbody tr th:only-of-type {\n",
       "        vertical-align: middle;\n",
       "    }\n",
       "\n",
       "    .dataframe tbody tr th {\n",
       "        vertical-align: top;\n",
       "    }\n",
       "\n",
       "    .dataframe thead th {\n",
       "        text-align: right;\n",
       "    }\n",
       "</style>\n",
       "<table border=\"1\" class=\"dataframe\">\n",
       "  <thead>\n",
       "    <tr style=\"text-align: right;\">\n",
       "      <th></th>\n",
       "      <th>review</th>\n",
       "      <th>rating</th>\n",
       "    </tr>\n",
       "  </thead>\n",
       "  <tbody>\n",
       "  </tbody>\n",
       "</table>\n",
       "</div>"
      ],
      "text/plain": [
       "Empty DataFrame\n",
       "Columns: [review, rating]\n",
       "Index: []"
      ]
     },
     "execution_count": 8,
     "metadata": {},
     "output_type": "execute_result"
    }
   ],
   "source": [
    "positive_reviews.loc[df['rating']==3]\n",
    "negative_reviews.loc[df['rating']==3]"
   ]
  },
  {
   "cell_type": "markdown",
   "metadata": {},
   "source": [
    "empty results means we select the reviews correctly "
   ]
  },
  {
   "cell_type": "markdown",
   "metadata": {},
   "source": [
    "### positive reviews rating 4,5"
   ]
  },
  {
   "cell_type": "code",
   "execution_count": 9,
   "metadata": {},
   "outputs": [
    {
     "data": {
      "text/html": [
       "<div>\n",
       "<style scoped>\n",
       "    .dataframe tbody tr th:only-of-type {\n",
       "        vertical-align: middle;\n",
       "    }\n",
       "\n",
       "    .dataframe tbody tr th {\n",
       "        vertical-align: top;\n",
       "    }\n",
       "\n",
       "    .dataframe thead th {\n",
       "        text-align: right;\n",
       "    }\n",
       "</style>\n",
       "<table border=\"1\" class=\"dataframe\">\n",
       "  <thead>\n",
       "    <tr style=\"text-align: right;\">\n",
       "      <th></th>\n",
       "      <th>review</th>\n",
       "      <th>rating</th>\n",
       "    </tr>\n",
       "  </thead>\n",
       "  <tbody>\n",
       "    <tr>\n",
       "      <th>0</th>\n",
       "      <td>من أمتع ما قرأت من روايات بلا شك. وحول الشك تد...</td>\n",
       "      <td>4</td>\n",
       "    </tr>\n",
       "    <tr>\n",
       "      <th>1</th>\n",
       "      <td>رواية تتخذ من التاريخ ،جوًا لها اختار المؤلف ف...</td>\n",
       "      <td>4</td>\n",
       "    </tr>\n",
       "    <tr>\n",
       "      <th>3</th>\n",
       "      <td>الكاهن الذي أطلق على نفسه اسم هيبا تيمنا بالعا...</td>\n",
       "      <td>5</td>\n",
       "    </tr>\n",
       "    <tr>\n",
       "      <th>4</th>\n",
       "      <td>عزازيل هو اسم رواية يوسف زيدان الثانية و التي ...</td>\n",
       "      <td>5</td>\n",
       "    </tr>\n",
       "    <tr>\n",
       "      <th>6</th>\n",
       "      <td>هذا هو الأدب . هذه هي الرواية !</td>\n",
       "      <td>4</td>\n",
       "    </tr>\n",
       "    <tr>\n",
       "      <th>...</th>\n",
       "      <td>...</td>\n",
       "      <td>...</td>\n",
       "    </tr>\n",
       "    <tr>\n",
       "      <th>63054</th>\n",
       "      <td>رواية جميلة . اثار انتباهي فيها سرعة اتخاذ هام...</td>\n",
       "      <td>4</td>\n",
       "    </tr>\n",
       "    <tr>\n",
       "      <th>63058</th>\n",
       "      <td>فلسفه بودن يا نبودنمان هم هنوز نيست.عجبا!</td>\n",
       "      <td>5</td>\n",
       "    </tr>\n",
       "    <tr>\n",
       "      <th>63059</th>\n",
       "      <td>حينما يدعي هملت الجنون يكون أكثر حكمة</td>\n",
       "      <td>4</td>\n",
       "    </tr>\n",
       "    <tr>\n",
       "      <th>63060</th>\n",
       "      <td>اجمل مسرحية ألفت في تاريخ الادب الانجليزي</td>\n",
       "      <td>5</td>\n",
       "    </tr>\n",
       "    <tr>\n",
       "      <th>63064</th>\n",
       "      <td>لم ادرك معنى العلاقات الخارجية و البروتكولات ا...</td>\n",
       "      <td>4</td>\n",
       "    </tr>\n",
       "  </tbody>\n",
       "</table>\n",
       "<p>42723 rows × 2 columns</p>\n",
       "</div>"
      ],
      "text/plain": [
       "                                                  review  rating\n",
       "0      من أمتع ما قرأت من روايات بلا شك. وحول الشك تد...       4\n",
       "1      رواية تتخذ من التاريخ ،جوًا لها اختار المؤلف ف...       4\n",
       "3      الكاهن الذي أطلق على نفسه اسم هيبا تيمنا بالعا...       5\n",
       "4      عزازيل هو اسم رواية يوسف زيدان الثانية و التي ...       5\n",
       "6                        هذا هو الأدب . هذه هي الرواية !       4\n",
       "...                                                  ...     ...\n",
       "63054  رواية جميلة . اثار انتباهي فيها سرعة اتخاذ هام...       4\n",
       "63058          فلسفه بودن يا نبودنمان هم هنوز نيست.عجبا!       5\n",
       "63059              حينما يدعي هملت الجنون يكون أكثر حكمة       4\n",
       "63060          اجمل مسرحية ألفت في تاريخ الادب الانجليزي       5\n",
       "63064  لم ادرك معنى العلاقات الخارجية و البروتكولات ا...       4\n",
       "\n",
       "[42723 rows x 2 columns]"
      ]
     },
     "execution_count": 9,
     "metadata": {},
     "output_type": "execute_result"
    }
   ],
   "source": [
    "positive_reviews.loc[df['rating']>= 4]"
   ]
  },
  {
   "cell_type": "markdown",
   "metadata": {},
   "source": [
    "### Negative reviews rating 1,2"
   ]
  },
  {
   "cell_type": "code",
   "execution_count": 10,
   "metadata": {},
   "outputs": [
    {
     "data": {
      "text/html": [
       "<div>\n",
       "<style scoped>\n",
       "    .dataframe tbody tr th:only-of-type {\n",
       "        vertical-align: middle;\n",
       "    }\n",
       "\n",
       "    .dataframe tbody tr th {\n",
       "        vertical-align: top;\n",
       "    }\n",
       "\n",
       "    .dataframe thead th {\n",
       "        text-align: right;\n",
       "    }\n",
       "</style>\n",
       "<table border=\"1\" class=\"dataframe\">\n",
       "  <thead>\n",
       "    <tr style=\"text-align: right;\">\n",
       "      <th></th>\n",
       "      <th>review</th>\n",
       "      <th>rating</th>\n",
       "    </tr>\n",
       "  </thead>\n",
       "  <tbody>\n",
       "    <tr>\n",
       "      <th>2</th>\n",
       "      <td>إني أقدّر هذه الرواية كثيرا، لسبب مختلف عن أسب...</td>\n",
       "      <td>1</td>\n",
       "    </tr>\n",
       "    <tr>\n",
       "      <th>35</th>\n",
       "      <td>انا كان عندى شغف قوى جدا لاقرأه وبعد ان تعمقت ...</td>\n",
       "      <td>2</td>\n",
       "    </tr>\n",
       "    <tr>\n",
       "      <th>84</th>\n",
       "      <td>منذ مدة طويلة وأنا لا أقرأ الروايات ولكني اختر...</td>\n",
       "      <td>1</td>\n",
       "    </tr>\n",
       "    <tr>\n",
       "      <th>87</th>\n",
       "      <td>هو ممتع فى المجمل احداثه مشوقه هيبا شخصيته غري...</td>\n",
       "      <td>2</td>\n",
       "    </tr>\n",
       "    <tr>\n",
       "      <th>89</th>\n",
       "      <td>ذكر الكاتب في مقدمته أنها ترجمة لمخطوطات كتبها...</td>\n",
       "      <td>2</td>\n",
       "    </tr>\n",
       "    <tr>\n",
       "      <th>...</th>\n",
       "      <td>...</td>\n",
       "      <td>...</td>\n",
       "    </tr>\n",
       "    <tr>\n",
       "      <th>63034</th>\n",
       "      <td>الرواية شيقة واستمتعت في قراءتها وأعجبت بشخصية...</td>\n",
       "      <td>2</td>\n",
       "    </tr>\n",
       "    <tr>\n",
       "      <th>63035</th>\n",
       "      <td>عن خادمة تسافر من الفلبين إلى الكويت لا شيء جد...</td>\n",
       "      <td>1</td>\n",
       "    </tr>\n",
       "    <tr>\n",
       "      <th>63040</th>\n",
       "      <td>جميلة بالرغم من بساطة اسلوب الكاتب</td>\n",
       "      <td>2</td>\n",
       "    </tr>\n",
       "    <tr>\n",
       "      <th>63042</th>\n",
       "      <td>تعليق على صفحة 179: نقله غير متوقعه وغير جميله...</td>\n",
       "      <td>2</td>\n",
       "    </tr>\n",
       "    <tr>\n",
       "      <th>63053</th>\n",
       "      <td>ماساه ماساه ماساه ماساه بما تحمله الكلمة من مع...</td>\n",
       "      <td>2</td>\n",
       "    </tr>\n",
       "  </tbody>\n",
       "</table>\n",
       "<p>8174 rows × 2 columns</p>\n",
       "</div>"
      ],
      "text/plain": [
       "                                                  review  rating\n",
       "2      إني أقدّر هذه الرواية كثيرا، لسبب مختلف عن أسب...       1\n",
       "35     انا كان عندى شغف قوى جدا لاقرأه وبعد ان تعمقت ...       2\n",
       "84     منذ مدة طويلة وأنا لا أقرأ الروايات ولكني اختر...       1\n",
       "87     هو ممتع فى المجمل احداثه مشوقه هيبا شخصيته غري...       2\n",
       "89     ذكر الكاتب في مقدمته أنها ترجمة لمخطوطات كتبها...       2\n",
       "...                                                  ...     ...\n",
       "63034  الرواية شيقة واستمتعت في قراءتها وأعجبت بشخصية...       2\n",
       "63035  عن خادمة تسافر من الفلبين إلى الكويت لا شيء جد...       1\n",
       "63040                جميلة بالرغم من بساطة اسلوب الكاتب        2\n",
       "63042  تعليق على صفحة 179: نقله غير متوقعه وغير جميله...       2\n",
       "63053  ماساه ماساه ماساه ماساه بما تحمله الكلمة من مع...       2\n",
       "\n",
       "[8174 rows x 2 columns]"
      ]
     },
     "execution_count": 10,
     "metadata": {},
     "output_type": "execute_result"
    }
   ],
   "source": [
    "negative_reviews.loc[df['rating'] <= 2]"
   ]
  },
  {
   "cell_type": "markdown",
   "metadata": {},
   "source": [
    "### save two pandas into text files\n",
    "- save only the review since we knew the text represent which rating based on splitted values for negative and positive reviews"
   ]
  },
  {
   "cell_type": "code",
   "execution_count": 11,
   "metadata": {},
   "outputs": [],
   "source": [
    "positive_reviews = positive_reviews['review']\n",
    "negative_reviews = negative_reviews['review']"
   ]
  },
  {
   "cell_type": "code",
   "execution_count": 12,
   "metadata": {},
   "outputs": [],
   "source": [
    "positive_reviews.to_csv('data/positive_labr.txt', header=None, index=None, sep=' ', mode='a')\n",
    "negative_reviews.to_csv('data/negative_labr.txt', header=None, index=None, sep= ' ', mode='a')"
   ]
  },
  {
   "cell_type": "code",
   "execution_count": null,
   "metadata": {},
   "outputs": [],
   "source": []
  }
 ],
 "metadata": {
  "kernelspec": {
   "display_name": "Python 3",
   "language": "python",
   "name": "python3"
  },
  "language_info": {
   "codemirror_mode": {
    "name": "ipython",
    "version": 3
   },
   "file_extension": ".py",
   "mimetype": "text/x-python",
   "name": "python",
   "nbconvert_exporter": "python",
   "pygments_lexer": "ipython3",
   "version": "3.8.5"
  }
 },
 "nbformat": 4,
 "nbformat_minor": 4
}
